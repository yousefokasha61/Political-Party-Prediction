{
 "cells": [
  {
   "cell_type": "markdown",
   "metadata": {},
   "source": [
    "# Import Libraries"
   ]
  },
  {
   "cell_type": "code",
   "execution_count": 1,
   "metadata": {},
   "outputs": [],
   "source": [
    "import random\n",
    "import numpy as np\n",
    "import pandas as pd\n",
    "import matplotlib.pyplot as plt\n",
    "import seaborn as sns\n",
    "from pprint import pprint\n",
    "%matplotlib inline"
   ]
  },
  {
   "cell_type": "markdown",
   "metadata": {},
   "source": [
    "# Load and Preprocessing of the Dataset\n",
    "### Format the data according to the following guidelines:\n",
    "* Last column of the dataset should be the label and should also be named 'label'\n",
    "* There should be no missing values in the dataset"
   ]
  },
  {
   "cell_type": "code",
   "execution_count": 2,
   "metadata": {},
   "outputs": [],
   "source": [
    "def read_dataset(path):\n",
    "    dataset = pd.read_csv(path)\n",
    "    return dataset"
   ]
  },
  {
   "cell_type": "code",
   "execution_count": 3,
   "metadata": {},
   "outputs": [],
   "source": [
    "def give_name_columns(dataset):\n",
    "    dataset.columns = ['Class-Name', 'handicapped-infants', 'water-project-cost-sharing',\n",
    "                  'adoption-of-the-budget-resolution', 'physician-fee-freeze', 'el-salvador-aid',\n",
    "                  'religious-groups-in-schools', 'anti-satellite-test-ban', 'aid-to-nicaraguan-contras',\n",
    "                  'mx-missile', 'immigration', 'synfuels-corporation-cutback',\n",
    "                  'education-spending', 'superfund-right-to-sue', 'crime',\n",
    "                  'duty-free-exports', 'export-administration-act-south-africa']\n",
    "    return dataset"
   ]
  },
  {
   "cell_type": "code",
   "execution_count": 4,
   "metadata": {},
   "outputs": [],
   "source": [
    "def rearrange_columns(dataset):\n",
    "    dataset = dataset[['handicapped-infants', 'water-project-cost-sharing',\n",
    "                  'adoption-of-the-budget-resolution', 'physician-fee-freeze', 'el-salvador-aid',\n",
    "                  'religious-groups-in-schools', 'anti-satellite-test-ban', 'aid-to-nicaraguan-contras',\n",
    "                  'mx-missile', 'immigration', 'synfuels-corporation-cutback',\n",
    "                  'education-spending', 'superfund-right-to-sue', 'crime',\n",
    "                  'duty-free-exports', 'export-administration-act-south-africa', 'Class-Name']]\n",
    "    return dataset"
   ]
  },
  {
   "cell_type": "code",
   "execution_count": 5,
   "metadata": {},
   "outputs": [],
   "source": [
    "def rename_label_column(dataset):\n",
    "    dataset = dataset.rename(columns={\"Class-Name\": \"label\"})\n",
    "    return dataset"
   ]
  },
  {
   "cell_type": "code",
   "execution_count": 6,
   "metadata": {},
   "outputs": [],
   "source": [
    "def dealing_with_unknowns(dataset):\n",
    "    npData = dataset.values\n",
    "    for i in range(17):\n",
    "        unique_classes, counts_unique_classes = np.unique(npData[:, i], return_counts=True)\n",
    "        max_index = counts_unique_classes.argmax()\n",
    "        arr = npData[:, i]\n",
    "        for j in range(len(arr)):\n",
    "            if arr[j] == '?':\n",
    "                arr[j] = unique_classes[max_index]\n",
    "\n",
    "    dataset = pd.DataFrame(npData, columns = ['handicapped-infants', 'water-project-cost-sharing',\n",
    "                      'adoption-of-the-budget-resolution', 'physician-fee-freeze', 'el-salvador-aid',\n",
    "                      'religious-groups-in-schools', 'anti-satellite-test-ban', 'aid-to-nicaraguan-contras',\n",
    "                      'mx-missile', 'immigration', 'synfuels-corporation-cutback',\n",
    "                      'education-spending', 'superfund-right-to-sue', 'crime',\n",
    "                      'duty-free-exports', 'export-administration-act-south-africa', 'Class-Name'])\n",
    "    return dataset"
   ]
  },
  {
   "cell_type": "code",
   "execution_count": 7,
   "metadata": {},
   "outputs": [],
   "source": [
    "def categorical_to_continuous(dataset):\n",
    "    dictionary = {\"n\": 0, \"y\": 1}\n",
    "    for column in dataset.loc[:, dataset.columns != 'label']:\n",
    "        dataset[column] = dataset[column].map(dictionary)\n",
    "    return dataset"
   ]
  },
  {
   "cell_type": "code",
   "execution_count": 8,
   "metadata": {},
   "outputs": [],
   "source": [
    "dataset = read_dataset('house-votes-84.data.txt')\n",
    "dataset = give_name_columns(dataset)\n",
    "dataset = rearrange_columns(dataset)\n",
    "dataset = rename_label_column(dataset)\n",
    "dataset = dealing_with_unknowns(dataset)\n",
    "dataset = rename_label_column(dataset)\n",
    "dataset = categorical_to_continuous(dataset)"
   ]
  },
  {
   "cell_type": "code",
   "execution_count": 9,
   "metadata": {},
   "outputs": [
    {
     "data": {
      "text/html": [
       "<div>\n",
       "<style scoped>\n",
       "    .dataframe tbody tr th:only-of-type {\n",
       "        vertical-align: middle;\n",
       "    }\n",
       "\n",
       "    .dataframe tbody tr th {\n",
       "        vertical-align: top;\n",
       "    }\n",
       "\n",
       "    .dataframe thead th {\n",
       "        text-align: right;\n",
       "    }\n",
       "</style>\n",
       "<table border=\"1\" class=\"dataframe\">\n",
       "  <thead>\n",
       "    <tr style=\"text-align: right;\">\n",
       "      <th></th>\n",
       "      <th>handicapped-infants</th>\n",
       "      <th>water-project-cost-sharing</th>\n",
       "      <th>adoption-of-the-budget-resolution</th>\n",
       "      <th>physician-fee-freeze</th>\n",
       "      <th>el-salvador-aid</th>\n",
       "      <th>religious-groups-in-schools</th>\n",
       "      <th>anti-satellite-test-ban</th>\n",
       "      <th>aid-to-nicaraguan-contras</th>\n",
       "      <th>mx-missile</th>\n",
       "      <th>immigration</th>\n",
       "      <th>synfuels-corporation-cutback</th>\n",
       "      <th>education-spending</th>\n",
       "      <th>superfund-right-to-sue</th>\n",
       "      <th>crime</th>\n",
       "      <th>duty-free-exports</th>\n",
       "      <th>export-administration-act-south-africa</th>\n",
       "      <th>label</th>\n",
       "    </tr>\n",
       "  </thead>\n",
       "  <tbody>\n",
       "    <tr>\n",
       "      <th>0</th>\n",
       "      <td>0</td>\n",
       "      <td>1</td>\n",
       "      <td>0</td>\n",
       "      <td>1</td>\n",
       "      <td>1</td>\n",
       "      <td>1</td>\n",
       "      <td>0</td>\n",
       "      <td>0</td>\n",
       "      <td>0</td>\n",
       "      <td>0</td>\n",
       "      <td>0</td>\n",
       "      <td>1</td>\n",
       "      <td>1</td>\n",
       "      <td>1</td>\n",
       "      <td>0</td>\n",
       "      <td>1</td>\n",
       "      <td>republican</td>\n",
       "    </tr>\n",
       "    <tr>\n",
       "      <th>1</th>\n",
       "      <td>0</td>\n",
       "      <td>1</td>\n",
       "      <td>1</td>\n",
       "      <td>0</td>\n",
       "      <td>1</td>\n",
       "      <td>1</td>\n",
       "      <td>0</td>\n",
       "      <td>0</td>\n",
       "      <td>0</td>\n",
       "      <td>0</td>\n",
       "      <td>1</td>\n",
       "      <td>0</td>\n",
       "      <td>1</td>\n",
       "      <td>1</td>\n",
       "      <td>0</td>\n",
       "      <td>0</td>\n",
       "      <td>democrat</td>\n",
       "    </tr>\n",
       "    <tr>\n",
       "      <th>2</th>\n",
       "      <td>0</td>\n",
       "      <td>1</td>\n",
       "      <td>1</td>\n",
       "      <td>0</td>\n",
       "      <td>1</td>\n",
       "      <td>1</td>\n",
       "      <td>0</td>\n",
       "      <td>0</td>\n",
       "      <td>0</td>\n",
       "      <td>0</td>\n",
       "      <td>1</td>\n",
       "      <td>0</td>\n",
       "      <td>1</td>\n",
       "      <td>0</td>\n",
       "      <td>0</td>\n",
       "      <td>1</td>\n",
       "      <td>democrat</td>\n",
       "    </tr>\n",
       "    <tr>\n",
       "      <th>3</th>\n",
       "      <td>1</td>\n",
       "      <td>1</td>\n",
       "      <td>1</td>\n",
       "      <td>0</td>\n",
       "      <td>1</td>\n",
       "      <td>1</td>\n",
       "      <td>0</td>\n",
       "      <td>0</td>\n",
       "      <td>0</td>\n",
       "      <td>0</td>\n",
       "      <td>1</td>\n",
       "      <td>0</td>\n",
       "      <td>1</td>\n",
       "      <td>1</td>\n",
       "      <td>1</td>\n",
       "      <td>1</td>\n",
       "      <td>democrat</td>\n",
       "    </tr>\n",
       "    <tr>\n",
       "      <th>4</th>\n",
       "      <td>0</td>\n",
       "      <td>1</td>\n",
       "      <td>1</td>\n",
       "      <td>0</td>\n",
       "      <td>1</td>\n",
       "      <td>1</td>\n",
       "      <td>0</td>\n",
       "      <td>0</td>\n",
       "      <td>0</td>\n",
       "      <td>0</td>\n",
       "      <td>0</td>\n",
       "      <td>0</td>\n",
       "      <td>1</td>\n",
       "      <td>1</td>\n",
       "      <td>1</td>\n",
       "      <td>1</td>\n",
       "      <td>democrat</td>\n",
       "    </tr>\n",
       "  </tbody>\n",
       "</table>\n",
       "</div>"
      ],
      "text/plain": [
       "   handicapped-infants  water-project-cost-sharing  \\\n",
       "0                    0                           1   \n",
       "1                    0                           1   \n",
       "2                    0                           1   \n",
       "3                    1                           1   \n",
       "4                    0                           1   \n",
       "\n",
       "   adoption-of-the-budget-resolution  physician-fee-freeze  el-salvador-aid  \\\n",
       "0                                  0                     1                1   \n",
       "1                                  1                     0                1   \n",
       "2                                  1                     0                1   \n",
       "3                                  1                     0                1   \n",
       "4                                  1                     0                1   \n",
       "\n",
       "   religious-groups-in-schools  anti-satellite-test-ban  \\\n",
       "0                            1                        0   \n",
       "1                            1                        0   \n",
       "2                            1                        0   \n",
       "3                            1                        0   \n",
       "4                            1                        0   \n",
       "\n",
       "   aid-to-nicaraguan-contras  mx-missile  immigration  \\\n",
       "0                          0           0            0   \n",
       "1                          0           0            0   \n",
       "2                          0           0            0   \n",
       "3                          0           0            0   \n",
       "4                          0           0            0   \n",
       "\n",
       "   synfuels-corporation-cutback  education-spending  superfund-right-to-sue  \\\n",
       "0                             0                   1                       1   \n",
       "1                             1                   0                       1   \n",
       "2                             1                   0                       1   \n",
       "3                             1                   0                       1   \n",
       "4                             0                   0                       1   \n",
       "\n",
       "   crime  duty-free-exports  export-administration-act-south-africa  \\\n",
       "0      1                  0                                       1   \n",
       "1      1                  0                                       0   \n",
       "2      0                  0                                       1   \n",
       "3      1                  1                                       1   \n",
       "4      1                  1                                       1   \n",
       "\n",
       "        label  \n",
       "0  republican  \n",
       "1    democrat  \n",
       "2    democrat  \n",
       "3    democrat  \n",
       "4    democrat  "
      ]
     },
     "execution_count": 9,
     "metadata": {},
     "output_type": "execute_result"
    }
   ],
   "source": [
    "dataset.head()"
   ]
  },
  {
   "cell_type": "code",
   "execution_count": 10,
   "metadata": {},
   "outputs": [
    {
     "name": "stdout",
     "output_type": "stream",
     "text": [
      "<class 'pandas.core.frame.DataFrame'>\n",
      "RangeIndex: 434 entries, 0 to 433\n",
      "Data columns (total 17 columns):\n",
      " #   Column                                  Non-Null Count  Dtype \n",
      "---  ------                                  --------------  ----- \n",
      " 0   handicapped-infants                     434 non-null    int64 \n",
      " 1   water-project-cost-sharing              434 non-null    int64 \n",
      " 2   adoption-of-the-budget-resolution       434 non-null    int64 \n",
      " 3   physician-fee-freeze                    434 non-null    int64 \n",
      " 4   el-salvador-aid                         434 non-null    int64 \n",
      " 5   religious-groups-in-schools             434 non-null    int64 \n",
      " 6   anti-satellite-test-ban                 434 non-null    int64 \n",
      " 7   aid-to-nicaraguan-contras               434 non-null    int64 \n",
      " 8   mx-missile                              434 non-null    int64 \n",
      " 9   immigration                             434 non-null    int64 \n",
      " 10  synfuels-corporation-cutback            434 non-null    int64 \n",
      " 11  education-spending                      434 non-null    int64 \n",
      " 12  superfund-right-to-sue                  434 non-null    int64 \n",
      " 13  crime                                   434 non-null    int64 \n",
      " 14  duty-free-exports                       434 non-null    int64 \n",
      " 15  export-administration-act-south-africa  434 non-null    int64 \n",
      " 16  label                                   434 non-null    object\n",
      "dtypes: int64(16), object(1)\n",
      "memory usage: 57.8+ KB\n"
     ]
    }
   ],
   "source": [
    "dataset.info()"
   ]
  },
  {
   "cell_type": "markdown",
   "metadata": {},
   "source": [
    "# Train, Test and Split Dataset"
   ]
  },
  {
   "cell_type": "code",
   "execution_count": 11,
   "metadata": {},
   "outputs": [],
   "source": [
    "def trainTestSplit(dataset, testSize):\n",
    "   \n",
    "    # check if testSize is float or not that means if testsize is proportion or percentage we will\n",
    "    # round it to be a number of rows\n",
    "    if isinstance(testSize, float):\n",
    "        testSize = round(testSize * len(dataset))\n",
    "    \n",
    "    # we will take the dataset indices and convert it into a python list using data.index().tolist()\n",
    "    #then take this list and take testSize random numbers and extract from the dataset to the be the testdata\n",
    "    # and the rest is the train data\n",
    "    indices = dataset.index.tolist()\n",
    "    testIndices = random.sample(population=indices, k=testSize)\n",
    "    \n",
    "    test_data = dataset.loc[testIndices]\n",
    "    train_data = dataset.drop(testIndices)\n",
    "        \n",
    "    \n",
    "    return train_data, test_data"
   ]
  },
  {
   "cell_type": "code",
   "execution_count": 12,
   "metadata": {},
   "outputs": [],
   "source": [
    "random.seed(0)\n",
    "train_data, test_data = trainTestSplit(dataset, testSize=0.2)"
   ]
  },
  {
   "cell_type": "code",
   "execution_count": 13,
   "metadata": {},
   "outputs": [
    {
     "data": {
      "text/html": [
       "<div>\n",
       "<style scoped>\n",
       "    .dataframe tbody tr th:only-of-type {\n",
       "        vertical-align: middle;\n",
       "    }\n",
       "\n",
       "    .dataframe tbody tr th {\n",
       "        vertical-align: top;\n",
       "    }\n",
       "\n",
       "    .dataframe thead th {\n",
       "        text-align: right;\n",
       "    }\n",
       "</style>\n",
       "<table border=\"1\" class=\"dataframe\">\n",
       "  <thead>\n",
       "    <tr style=\"text-align: right;\">\n",
       "      <th></th>\n",
       "      <th>handicapped-infants</th>\n",
       "      <th>water-project-cost-sharing</th>\n",
       "      <th>adoption-of-the-budget-resolution</th>\n",
       "      <th>physician-fee-freeze</th>\n",
       "      <th>el-salvador-aid</th>\n",
       "      <th>religious-groups-in-schools</th>\n",
       "      <th>anti-satellite-test-ban</th>\n",
       "      <th>aid-to-nicaraguan-contras</th>\n",
       "      <th>mx-missile</th>\n",
       "      <th>immigration</th>\n",
       "      <th>synfuels-corporation-cutback</th>\n",
       "      <th>education-spending</th>\n",
       "      <th>superfund-right-to-sue</th>\n",
       "      <th>crime</th>\n",
       "      <th>duty-free-exports</th>\n",
       "      <th>export-administration-act-south-africa</th>\n",
       "      <th>label</th>\n",
       "    </tr>\n",
       "  </thead>\n",
       "  <tbody>\n",
       "    <tr>\n",
       "      <th>432</th>\n",
       "      <td>0</td>\n",
       "      <td>0</td>\n",
       "      <td>0</td>\n",
       "      <td>1</td>\n",
       "      <td>1</td>\n",
       "      <td>1</td>\n",
       "      <td>1</td>\n",
       "      <td>1</td>\n",
       "      <td>1</td>\n",
       "      <td>1</td>\n",
       "      <td>0</td>\n",
       "      <td>1</td>\n",
       "      <td>1</td>\n",
       "      <td>1</td>\n",
       "      <td>0</td>\n",
       "      <td>1</td>\n",
       "      <td>republican</td>\n",
       "    </tr>\n",
       "    <tr>\n",
       "      <th>197</th>\n",
       "      <td>0</td>\n",
       "      <td>0</td>\n",
       "      <td>1</td>\n",
       "      <td>0</td>\n",
       "      <td>0</td>\n",
       "      <td>0</td>\n",
       "      <td>1</td>\n",
       "      <td>1</td>\n",
       "      <td>1</td>\n",
       "      <td>1</td>\n",
       "      <td>1</td>\n",
       "      <td>0</td>\n",
       "      <td>1</td>\n",
       "      <td>0</td>\n",
       "      <td>1</td>\n",
       "      <td>1</td>\n",
       "      <td>democrat</td>\n",
       "    </tr>\n",
       "    <tr>\n",
       "      <th>388</th>\n",
       "      <td>1</td>\n",
       "      <td>0</td>\n",
       "      <td>1</td>\n",
       "      <td>0</td>\n",
       "      <td>0</td>\n",
       "      <td>0</td>\n",
       "      <td>1</td>\n",
       "      <td>1</td>\n",
       "      <td>1</td>\n",
       "      <td>1</td>\n",
       "      <td>1</td>\n",
       "      <td>0</td>\n",
       "      <td>0</td>\n",
       "      <td>0</td>\n",
       "      <td>1</td>\n",
       "      <td>1</td>\n",
       "      <td>democrat</td>\n",
       "    </tr>\n",
       "    <tr>\n",
       "      <th>215</th>\n",
       "      <td>1</td>\n",
       "      <td>1</td>\n",
       "      <td>1</td>\n",
       "      <td>0</td>\n",
       "      <td>1</td>\n",
       "      <td>1</td>\n",
       "      <td>0</td>\n",
       "      <td>0</td>\n",
       "      <td>1</td>\n",
       "      <td>1</td>\n",
       "      <td>0</td>\n",
       "      <td>0</td>\n",
       "      <td>0</td>\n",
       "      <td>1</td>\n",
       "      <td>1</td>\n",
       "      <td>1</td>\n",
       "      <td>democrat</td>\n",
       "    </tr>\n",
       "    <tr>\n",
       "      <th>20</th>\n",
       "      <td>1</td>\n",
       "      <td>1</td>\n",
       "      <td>1</td>\n",
       "      <td>0</td>\n",
       "      <td>0</td>\n",
       "      <td>0</td>\n",
       "      <td>1</td>\n",
       "      <td>1</td>\n",
       "      <td>1</td>\n",
       "      <td>0</td>\n",
       "      <td>0</td>\n",
       "      <td>0</td>\n",
       "      <td>1</td>\n",
       "      <td>1</td>\n",
       "      <td>1</td>\n",
       "      <td>1</td>\n",
       "      <td>democrat</td>\n",
       "    </tr>\n",
       "  </tbody>\n",
       "</table>\n",
       "</div>"
      ],
      "text/plain": [
       "     handicapped-infants  water-project-cost-sharing  \\\n",
       "432                    0                           0   \n",
       "197                    0                           0   \n",
       "388                    1                           0   \n",
       "215                    1                           1   \n",
       "20                     1                           1   \n",
       "\n",
       "     adoption-of-the-budget-resolution  physician-fee-freeze  el-salvador-aid  \\\n",
       "432                                  0                     1                1   \n",
       "197                                  1                     0                0   \n",
       "388                                  1                     0                0   \n",
       "215                                  1                     0                1   \n",
       "20                                   1                     0                0   \n",
       "\n",
       "     religious-groups-in-schools  anti-satellite-test-ban  \\\n",
       "432                            1                        1   \n",
       "197                            0                        1   \n",
       "388                            0                        1   \n",
       "215                            1                        0   \n",
       "20                             0                        1   \n",
       "\n",
       "     aid-to-nicaraguan-contras  mx-missile  immigration  \\\n",
       "432                          1           1            1   \n",
       "197                          1           1            1   \n",
       "388                          1           1            1   \n",
       "215                          0           1            1   \n",
       "20                           1           1            0   \n",
       "\n",
       "     synfuels-corporation-cutback  education-spending  superfund-right-to-sue  \\\n",
       "432                             0                   1                       1   \n",
       "197                             1                   0                       1   \n",
       "388                             1                   0                       0   \n",
       "215                             0                   0                       0   \n",
       "20                              0                   0                       1   \n",
       "\n",
       "     crime  duty-free-exports  export-administration-act-south-africa  \\\n",
       "432      1                  0                                       1   \n",
       "197      0                  1                                       1   \n",
       "388      0                  1                                       1   \n",
       "215      1                  1                                       1   \n",
       "20       1                  1                                       1   \n",
       "\n",
       "          label  \n",
       "432  republican  \n",
       "197    democrat  \n",
       "388    democrat  \n",
       "215    democrat  \n",
       "20     democrat  "
      ]
     },
     "execution_count": 13,
     "metadata": {},
     "output_type": "execute_result"
    }
   ],
   "source": [
    "test_data.head()"
   ]
  },
  {
   "cell_type": "markdown",
   "metadata": {},
   "source": [
    "# Utility Functions"
   ]
  },
  {
   "cell_type": "code",
   "execution_count": 14,
   "metadata": {},
   "outputs": [
    {
     "data": {
      "text/plain": [
       "array([[0, 1, 1, 0, 1, 1, 0, 0, 0, 0, 1, 0, 1, 1, 0, 0, 'democrat'],\n",
       "       [0, 1, 1, 0, 1, 1, 0, 0, 0, 0, 1, 0, 1, 0, 0, 1, 'democrat'],\n",
       "       [1, 1, 1, 0, 1, 1, 0, 0, 0, 0, 1, 0, 1, 1, 1, 1, 'democrat'],\n",
       "       [0, 1, 1, 0, 1, 1, 0, 0, 0, 0, 0, 0, 1, 1, 1, 1, 'democrat'],\n",
       "       [0, 1, 0, 1, 1, 1, 0, 0, 0, 0, 0, 0, 1, 1, 1, 1, 'democrat']],\n",
       "      dtype=object)"
      ]
     },
     "execution_count": 14,
     "metadata": {},
     "output_type": "execute_result"
    }
   ],
   "source": [
    "npData = train_data.values\n",
    "npData[:5]"
   ]
  },
  {
   "cell_type": "markdown",
   "metadata": {},
   "source": [
    "### Data Purity Fucntion"
   ]
  },
  {
   "cell_type": "code",
   "execution_count": 15,
   "metadata": {},
   "outputs": [],
   "source": [
    "# if a subset contains one class or if it contains several classes\n",
    "\n",
    "def check_purity(data):\n",
    "    label_column = data[:, -1]\n",
    "    unique_classes = np.unique(label_column)\n",
    "    \n",
    "    if(len(unique_classes) == 1):\n",
    "        return True\n",
    "    else:\n",
    "        return False"
   ]
  },
  {
   "cell_type": "markdown",
   "metadata": {},
   "source": [
    "### Classify Function"
   ]
  },
  {
   "cell_type": "code",
   "execution_count": 16,
   "metadata": {},
   "outputs": [],
   "source": [
    "def classify_data(data):\n",
    "    label_column = data[:, -1]\n",
    "    \n",
    "    # it returns the unique values of the label column and the \n",
    "    # frequency of each one\n",
    "    unique_classes, counts_unique_classes = np.unique(label_column, return_counts=True)\n",
    "    \n",
    "    index = counts_unique_classes.argmax()\n",
    "    classification = unique_classes[index]\n",
    "    return classification"
   ]
  },
  {
   "cell_type": "markdown",
   "metadata": {},
   "source": [
    "### Potential Splits Function"
   ]
  },
  {
   "cell_type": "code",
   "execution_count": 17,
   "metadata": {},
   "outputs": [],
   "source": [
    "def get_potential_splits(data):\n",
    "    potential_splits = {}\n",
    "    _, n_columns = data.shape\n",
    "    for column_index in range(n_columns - 1): # to to exclude the label column\n",
    "        potential_splits[column_index] = []\n",
    "        values = data[:, column_index]\n",
    "        unique_values = np.unique(values)\n",
    "\n",
    "        for index in range(len(unique_values)):\n",
    "            if index != 0:\n",
    "                current_value = unique_values[index]\n",
    "                previous_value = unique_values[index - 1]\n",
    "                potential_split = (current_value + previous_value) / 2\n",
    "                potential_splits[column_index].append((potential_split))\n",
    "            \n",
    "    return potential_splits"
   ]
  },
  {
   "cell_type": "code",
   "execution_count": 18,
   "metadata": {},
   "outputs": [],
   "source": [
    "potential_splits = get_potential_splits(train_data.values)"
   ]
  },
  {
   "cell_type": "markdown",
   "metadata": {},
   "source": [
    "### Split Data Function"
   ]
  },
  {
   "cell_type": "code",
   "execution_count": 19,
   "metadata": {},
   "outputs": [],
   "source": [
    "def split_data(data, column, value):\n",
    "    split_column_values = data[:, column]\n",
    "    data_left = data[split_column_values <= value]\n",
    "    data_right = data[split_column_values > value]\n",
    "    \n",
    "    return data_left, data_right"
   ]
  },
  {
   "cell_type": "markdown",
   "metadata": {},
   "source": [
    "### Entropy Function"
   ]
  },
  {
   "cell_type": "code",
   "execution_count": 20,
   "metadata": {},
   "outputs": [],
   "source": [
    "def entropy(data):\n",
    "    label_column = data[:, -1]\n",
    "    _, unique_classes_count = np.unique(label_column, return_counts=True)\n",
    "    probabilities = unique_classes_count / unique_classes_count.sum()\n",
    "    entropy = sum(probabilities * -np.log2(probabilities))\n",
    "    return entropy"
   ]
  },
  {
   "cell_type": "markdown",
   "metadata": {},
   "source": [
    "### Overall Entropy"
   ]
  },
  {
   "cell_type": "code",
   "execution_count": 21,
   "metadata": {},
   "outputs": [],
   "source": [
    "def overall_entropy(data_left, data_right):\n",
    "    n = len(data_left) + len(data_right)\n",
    "    p_data_left = len(data_left) / n\n",
    "    p_data_right = len(data_right) / n\n",
    "    overall_entropy = ((p_data_left * entropy(data_left)) + (p_data_right * entropy(data_right)))\n",
    "    return overall_entropy"
   ]
  },
  {
   "cell_type": "code",
   "execution_count": 22,
   "metadata": {},
   "outputs": [],
   "source": [
    "def find_best_split(data, potential_splits):\n",
    "    best_entropy = 100000\n",
    "    best_column = 0\n",
    "    best_value = 0\n",
    "    for column in potential_splits:\n",
    "        for value in potential_splits[column]:\n",
    "            data_left, data_right = split_data(data, column, value)\n",
    "            current_overall_entropy = overall_entropy(data_left, data_right)\n",
    "            \n",
    "            if current_overall_entropy <= best_entropy:\n",
    "                best_entropy = current_overall_entropy\n",
    "                best_column = column\n",
    "                best_value = value\n",
    "                \n",
    "    return best_column, best_value"
   ]
  },
  {
   "cell_type": "code",
   "execution_count": 23,
   "metadata": {},
   "outputs": [
    {
     "data": {
      "text/plain": [
       "(3, 0.5)"
      ]
     },
     "execution_count": 23,
     "metadata": {},
     "output_type": "execute_result"
    }
   ],
   "source": [
    "find_best_split(npData, potential_splits)"
   ]
  },
  {
   "cell_type": "markdown",
   "metadata": {},
   "source": [
    "# Main Decision Tree Algorithm (recursive algorithm)"
   ]
  },
  {
   "cell_type": "markdown",
   "metadata": {},
   "source": [
    "## Decision Tree Representation:"
   ]
  },
  {
   "cell_type": "code",
   "execution_count": 24,
   "metadata": {},
   "outputs": [],
   "source": [
    "sub_tree = {\"question\": [\"yes_answer\", \"no_answer\"]}"
   ]
  },
  {
   "cell_type": "markdown",
   "metadata": {},
   "source": [
    "## Decision Tree Algorithm:"
   ]
  },
  {
   "cell_type": "code",
   "execution_count": 25,
   "metadata": {},
   "outputs": [],
   "source": [
    "def build_decision_tree(dataset, counter=0, min_sample_size=2, max_tree_depth=5):\n",
    "    if counter == 0:\n",
    "        global COLUMN_NAMES\n",
    "        COLUMN_NAMES = dataset.columns\n",
    "        data = dataset.values\n",
    "    else:\n",
    "        data = dataset\n",
    "        \n",
    "    # Base Case\n",
    "    if ((check_purity(data)) or (len(data) < min_sample_size) or (counter == max_tree_depth)):\n",
    "        result = classify_data(data)\n",
    "        return result\n",
    "    # recursion case\n",
    "    else:\n",
    "        counter += 1\n",
    "        \n",
    "        #using the utility function\n",
    "        potential_splits = get_potential_splits(data)\n",
    "        column, value = find_best_split(data, potential_splits)\n",
    "        data_left, data_right = split_data(data, column, value)\n",
    "        \n",
    "        #Define subTree\n",
    "        feature_name = COLUMN_NAMES[column]\n",
    "        inquiry = \"{} <= {}\".format(feature_name, value)\n",
    "        decision_sub_tree = {inquiry: []}\n",
    "        \n",
    "        #recursion (to find the answer to the question)\n",
    "        yes = build_decision_tree(data_left, counter,min_sample_size, max_tree_depth)\n",
    "        no = build_decision_tree(data_right, counter,min_sample_size, max_tree_depth)\n",
    "        \n",
    "        if yes == no:\n",
    "            decision_sub_tree = yes\n",
    "        else:\n",
    "            decision_sub_tree[inquiry].append(yes)\n",
    "            decision_sub_tree[inquiry].append(no)\n",
    "        \n",
    "        \n",
    "        return decision_sub_tree\n",
    "        "
   ]
  },
  {
   "cell_type": "code",
   "execution_count": 26,
   "metadata": {},
   "outputs": [
    {
     "name": "stdout",
     "output_type": "stream",
     "text": [
      "{'physician-fee-freeze <= 0.5': ['democrat',\n",
      "                                 {'synfuels-corporation-cutback <= 0.5': ['republican',\n",
      "                                                                          {'adoption-of-the-budget-resolution <= 0.5': ['republican',\n",
      "                                                                                                                        'democrat']}]}]}\n"
     ]
    }
   ],
   "source": [
    "tree = build_decision_tree(train_data, max_tree_depth=3)\n",
    "pprint(tree)"
   ]
  },
  {
   "cell_type": "code",
   "execution_count": 27,
   "metadata": {},
   "outputs": [
    {
     "data": {
      "text/plain": [
       "handicapped-infants                              1\n",
       "water-project-cost-sharing                       0\n",
       "adoption-of-the-budget-resolution                1\n",
       "physician-fee-freeze                             0\n",
       "el-salvador-aid                                  0\n",
       "religious-groups-in-schools                      0\n",
       "anti-satellite-test-ban                          1\n",
       "aid-to-nicaraguan-contras                        1\n",
       "mx-missile                                       1\n",
       "immigration                                      0\n",
       "synfuels-corporation-cutback                     0\n",
       "education-spending                               0\n",
       "superfund-right-to-sue                           0\n",
       "crime                                            0\n",
       "duty-free-exports                                0\n",
       "export-administration-act-south-africa           1\n",
       "label                                     democrat\n",
       "Name: 258, dtype: object"
      ]
     },
     "execution_count": 27,
     "metadata": {},
     "output_type": "execute_result"
    }
   ],
   "source": [
    "test_example = test_data.iloc[15]\n",
    "test_example"
   ]
  },
  {
   "cell_type": "code",
   "execution_count": 28,
   "metadata": {},
   "outputs": [],
   "source": [
    "def predict(test_example, decision_tree):\n",
    "    inquiry = list(decision_tree.keys())[0]\n",
    "    column_name, operator, value = inquiry.split()\n",
    "    \n",
    "    #traverse te decision inquiry by  inquiry\n",
    "    if test_example[column_name] <= float(value):\n",
    "        result = decision_tree[inquiry][0]\n",
    "    else:\n",
    "        result = decision_tree[inquiry][1]\n",
    "        \n",
    "    #for this recursive approach our base case will be\n",
    "    if not isinstance(result, dict):\n",
    "        return result\n",
    "    else: #recursive case\n",
    "        remaining_decision_tree = result\n",
    "        return predict(test_example, remaining_decision_tree)"
   ]
  },
  {
   "cell_type": "code",
   "execution_count": 29,
   "metadata": {},
   "outputs": [
    {
     "data": {
      "text/plain": [
       "'democrat'"
      ]
     },
     "execution_count": 29,
     "metadata": {},
     "output_type": "execute_result"
    }
   ],
   "source": [
    "predict(test_example, tree)"
   ]
  },
  {
   "cell_type": "code",
   "execution_count": 30,
   "metadata": {},
   "outputs": [],
   "source": [
    "def accuracy(test_dataset, decision_tree):\n",
    "    test_dataset[\"prediction\"] = test_dataset.apply(predict, axis=1, args=(decision_tree,))\n",
    "    test_dataset[\"prediction_comparison\"] = test_dataset[\"prediction\"] == test_dataset[\"label\"]\n",
    "    \n",
    "    result = test_dataset[\"prediction_comparison\"].mean()\n",
    "    \n",
    "    return result"
   ]
  },
  {
   "cell_type": "code",
   "execution_count": 31,
   "metadata": {},
   "outputs": [
    {
     "data": {
      "text/plain": [
       "0.9655172413793104"
      ]
     },
     "execution_count": 31,
     "metadata": {},
     "output_type": "execute_result"
    }
   ],
   "source": [
    "accuracy(test_data, tree)"
   ]
  },
  {
   "cell_type": "code",
   "execution_count": 32,
   "metadata": {},
   "outputs": [
    {
     "data": {
      "text/html": [
       "<div>\n",
       "<style scoped>\n",
       "    .dataframe tbody tr th:only-of-type {\n",
       "        vertical-align: middle;\n",
       "    }\n",
       "\n",
       "    .dataframe tbody tr th {\n",
       "        vertical-align: top;\n",
       "    }\n",
       "\n",
       "    .dataframe thead th {\n",
       "        text-align: right;\n",
       "    }\n",
       "</style>\n",
       "<table border=\"1\" class=\"dataframe\">\n",
       "  <thead>\n",
       "    <tr style=\"text-align: right;\">\n",
       "      <th></th>\n",
       "      <th>handicapped-infants</th>\n",
       "      <th>water-project-cost-sharing</th>\n",
       "      <th>adoption-of-the-budget-resolution</th>\n",
       "      <th>physician-fee-freeze</th>\n",
       "      <th>el-salvador-aid</th>\n",
       "      <th>religious-groups-in-schools</th>\n",
       "      <th>anti-satellite-test-ban</th>\n",
       "      <th>aid-to-nicaraguan-contras</th>\n",
       "      <th>mx-missile</th>\n",
       "      <th>immigration</th>\n",
       "      <th>synfuels-corporation-cutback</th>\n",
       "      <th>education-spending</th>\n",
       "      <th>superfund-right-to-sue</th>\n",
       "      <th>crime</th>\n",
       "      <th>duty-free-exports</th>\n",
       "      <th>export-administration-act-south-africa</th>\n",
       "      <th>label</th>\n",
       "      <th>prediction</th>\n",
       "      <th>prediction_comparison</th>\n",
       "    </tr>\n",
       "  </thead>\n",
       "  <tbody>\n",
       "    <tr>\n",
       "      <th>432</th>\n",
       "      <td>0</td>\n",
       "      <td>0</td>\n",
       "      <td>0</td>\n",
       "      <td>1</td>\n",
       "      <td>1</td>\n",
       "      <td>1</td>\n",
       "      <td>1</td>\n",
       "      <td>1</td>\n",
       "      <td>1</td>\n",
       "      <td>1</td>\n",
       "      <td>0</td>\n",
       "      <td>1</td>\n",
       "      <td>1</td>\n",
       "      <td>1</td>\n",
       "      <td>0</td>\n",
       "      <td>1</td>\n",
       "      <td>republican</td>\n",
       "      <td>republican</td>\n",
       "      <td>True</td>\n",
       "    </tr>\n",
       "    <tr>\n",
       "      <th>197</th>\n",
       "      <td>0</td>\n",
       "      <td>0</td>\n",
       "      <td>1</td>\n",
       "      <td>0</td>\n",
       "      <td>0</td>\n",
       "      <td>0</td>\n",
       "      <td>1</td>\n",
       "      <td>1</td>\n",
       "      <td>1</td>\n",
       "      <td>1</td>\n",
       "      <td>1</td>\n",
       "      <td>0</td>\n",
       "      <td>1</td>\n",
       "      <td>0</td>\n",
       "      <td>1</td>\n",
       "      <td>1</td>\n",
       "      <td>democrat</td>\n",
       "      <td>democrat</td>\n",
       "      <td>True</td>\n",
       "    </tr>\n",
       "    <tr>\n",
       "      <th>388</th>\n",
       "      <td>1</td>\n",
       "      <td>0</td>\n",
       "      <td>1</td>\n",
       "      <td>0</td>\n",
       "      <td>0</td>\n",
       "      <td>0</td>\n",
       "      <td>1</td>\n",
       "      <td>1</td>\n",
       "      <td>1</td>\n",
       "      <td>1</td>\n",
       "      <td>1</td>\n",
       "      <td>0</td>\n",
       "      <td>0</td>\n",
       "      <td>0</td>\n",
       "      <td>1</td>\n",
       "      <td>1</td>\n",
       "      <td>democrat</td>\n",
       "      <td>democrat</td>\n",
       "      <td>True</td>\n",
       "    </tr>\n",
       "    <tr>\n",
       "      <th>215</th>\n",
       "      <td>1</td>\n",
       "      <td>1</td>\n",
       "      <td>1</td>\n",
       "      <td>0</td>\n",
       "      <td>1</td>\n",
       "      <td>1</td>\n",
       "      <td>0</td>\n",
       "      <td>0</td>\n",
       "      <td>1</td>\n",
       "      <td>1</td>\n",
       "      <td>0</td>\n",
       "      <td>0</td>\n",
       "      <td>0</td>\n",
       "      <td>1</td>\n",
       "      <td>1</td>\n",
       "      <td>1</td>\n",
       "      <td>democrat</td>\n",
       "      <td>democrat</td>\n",
       "      <td>True</td>\n",
       "    </tr>\n",
       "    <tr>\n",
       "      <th>20</th>\n",
       "      <td>1</td>\n",
       "      <td>1</td>\n",
       "      <td>1</td>\n",
       "      <td>0</td>\n",
       "      <td>0</td>\n",
       "      <td>0</td>\n",
       "      <td>1</td>\n",
       "      <td>1</td>\n",
       "      <td>1</td>\n",
       "      <td>0</td>\n",
       "      <td>0</td>\n",
       "      <td>0</td>\n",
       "      <td>1</td>\n",
       "      <td>1</td>\n",
       "      <td>1</td>\n",
       "      <td>1</td>\n",
       "      <td>democrat</td>\n",
       "      <td>democrat</td>\n",
       "      <td>True</td>\n",
       "    </tr>\n",
       "  </tbody>\n",
       "</table>\n",
       "</div>"
      ],
      "text/plain": [
       "     handicapped-infants  water-project-cost-sharing  \\\n",
       "432                    0                           0   \n",
       "197                    0                           0   \n",
       "388                    1                           0   \n",
       "215                    1                           1   \n",
       "20                     1                           1   \n",
       "\n",
       "     adoption-of-the-budget-resolution  physician-fee-freeze  el-salvador-aid  \\\n",
       "432                                  0                     1                1   \n",
       "197                                  1                     0                0   \n",
       "388                                  1                     0                0   \n",
       "215                                  1                     0                1   \n",
       "20                                   1                     0                0   \n",
       "\n",
       "     religious-groups-in-schools  anti-satellite-test-ban  \\\n",
       "432                            1                        1   \n",
       "197                            0                        1   \n",
       "388                            0                        1   \n",
       "215                            1                        0   \n",
       "20                             0                        1   \n",
       "\n",
       "     aid-to-nicaraguan-contras  mx-missile  immigration  \\\n",
       "432                          1           1            1   \n",
       "197                          1           1            1   \n",
       "388                          1           1            1   \n",
       "215                          0           1            1   \n",
       "20                           1           1            0   \n",
       "\n",
       "     synfuels-corporation-cutback  education-spending  superfund-right-to-sue  \\\n",
       "432                             0                   1                       1   \n",
       "197                             1                   0                       1   \n",
       "388                             1                   0                       0   \n",
       "215                             0                   0                       0   \n",
       "20                              0                   0                       1   \n",
       "\n",
       "     crime  duty-free-exports  export-administration-act-south-africa  \\\n",
       "432      1                  0                                       1   \n",
       "197      0                  1                                       1   \n",
       "388      0                  1                                       1   \n",
       "215      1                  1                                       1   \n",
       "20       1                  1                                       1   \n",
       "\n",
       "          label  prediction  prediction_comparison  \n",
       "432  republican  republican                   True  \n",
       "197    democrat    democrat                   True  \n",
       "388    democrat    democrat                   True  \n",
       "215    democrat    democrat                   True  \n",
       "20     democrat    democrat                   True  "
      ]
     },
     "execution_count": 32,
     "metadata": {},
     "output_type": "execute_result"
    }
   ],
   "source": [
    "test_data.head()"
   ]
  },
  {
   "cell_type": "code",
   "execution_count": null,
   "metadata": {},
   "outputs": [],
   "source": []
  }
 ],
 "metadata": {
  "kernelspec": {
   "display_name": "Python 3",
   "language": "python",
   "name": "python3"
  },
  "language_info": {
   "codemirror_mode": {
    "name": "ipython",
    "version": 3
   },
   "file_extension": ".py",
   "mimetype": "text/x-python",
   "name": "python",
   "nbconvert_exporter": "python",
   "pygments_lexer": "ipython3",
   "version": "3.7.6"
  }
 },
 "nbformat": 4,
 "nbformat_minor": 4
}
